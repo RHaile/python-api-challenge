{
 "cells": [
  {
   "cell_type": "markdown",
   "metadata": {},
   "source": [
    "# WeatherPy\n",
    "----\n",
    "\n",
    "#### Note\n",
    "* Instructions have been included for each segment. You do not have to follow them exactly, but they are included to help you think through the steps."
   ]
  },
  {
   "cell_type": "code",
   "execution_count": 1,
   "metadata": {
    "scrolled": true
   },
   "outputs": [],
   "source": [
    "# Dependencies and Setup\n",
    "import matplotlib.pyplot as plt\n",
    "import pandas as pd\n",
    "import numpy as np\n",
    "import requests\n",
    "import time\n",
    "from scipy.stats import linregress\n",
    "\n",
    "# Import API key\n",
    "from api_keys import weather_api_key\n",
    "\n",
    "# Incorporated citipy to determine city based on latitude and longitude\n",
    "from citipy import citipy\n",
    "\n",
    "# Output File (CSV)\n",
    "output_data_file = \"output_data/cities.csv\"\n",
    "\n",
    "# Range of latitudes and longitudes\n",
    "lat_range = (-90, 90)\n",
    "lng_range = (-180, 180)"
   ]
  },
  {
   "cell_type": "markdown",
   "metadata": {},
   "source": [
    "## Generate Cities List"
   ]
  },
  {
   "cell_type": "code",
   "execution_count": 2,
   "metadata": {},
   "outputs": [
    {
     "data": {
      "text/plain": [
       "630"
      ]
     },
     "execution_count": 2,
     "metadata": {},
     "output_type": "execute_result"
    }
   ],
   "source": [
    "# List for holding lat_lngs and cities\n",
    "lat_lngs = []\n",
    "cities = []\n",
    "\n",
    "# Create a set of random lat and lng combinations\n",
    "lats = np.random.uniform(low=-90.000, high=90.000, size=1500)\n",
    "lngs = np.random.uniform(low=-180.000, high=180.000, size=1500)\n",
    "lat_lngs = zip(lats, lngs)\n",
    "\n",
    "# Identify nearest city for each lat, lng combination\n",
    "for lat_lng in lat_lngs:\n",
    "    city = citipy.nearest_city(lat_lng[0], lat_lng[1]).city_name\n",
    "    \n",
    "    # If the city is unique, then add it to a our cities list\n",
    "    if city not in cities:\n",
    "        cities.append(city)\n",
    "\n",
    "# Print the city count to confirm sufficient count\n",
    "len(cities)"
   ]
  },
  {
   "cell_type": "markdown",
   "metadata": {},
   "source": [
    "### Perform API Calls\n",
    "* Perform a weather check on each city using a series of successive API calls.\n",
    "* Include a print log of each city as it'sbeing processed (with the city number and city name).\n"
   ]
  },
  {
   "cell_type": "code",
   "execution_count": 4,
   "metadata": {},
   "outputs": [
    {
     "name": "stdout",
     "output_type": "stream",
     "text": [
      "Beginning Data Retrieval\n",
      "-----------------------------\n",
      "Processing Record 1 | jamestown\n",
      "Processing Record 2 | nizhneyansk\n",
      "City not found. Skipping...\n",
      "Processing Record 3 | qeshm\n",
      "Processing Record 4 | tual\n",
      "Processing Record 5 | port elizabeth\n",
      "Processing Record 6 | vanavara\n",
      "Processing Record 7 | busselton\n",
      "Processing Record 8 | saskylakh\n",
      "Processing Record 9 | mataura\n",
      "Processing Record 10 | chuy\n",
      "Processing Record 11 | ponta do sol\n",
      "Processing Record 12 | ponta delgada\n",
      "Processing Record 13 | kochevo\n",
      "Processing Record 14 | yuanping\n",
      "Processing Record 15 | vaini\n",
      "Processing Record 16 | carnarvon\n",
      "Processing Record 17 | pevek\n",
      "Processing Record 18 | hobyo\n",
      "Processing Record 19 | kaitangata\n",
      "Processing Record 20 | airai\n",
      "Processing Record 21 | prescott\n",
      "Processing Record 22 | lompoc\n",
      "Processing Record 23 | bud\n",
      "Processing Record 24 | sinjah\n",
      "City not found. Skipping...\n",
      "Processing Record 25 | cabo san lucas\n",
      "Processing Record 26 | rikitea\n",
      "Processing Record 27 | ushuaia\n",
      "Processing Record 28 | hilo\n",
      "Processing Record 29 | punta arenas\n",
      "Processing Record 30 | belmonte\n",
      "Processing Record 31 | talnakh\n",
      "Processing Record 32 | carayao\n",
      "Processing Record 33 | norman wells\n",
      "Processing Record 34 | hovd\n",
      "Processing Record 35 | hithadhoo\n",
      "Processing Record 36 | yumbe\n",
      "Processing Record 37 | butaritari\n",
      "Processing Record 38 | kashi\n",
      "City not found. Skipping...\n",
      "Processing Record 39 | puerto ayora\n",
      "Processing Record 40 | saint-philippe\n",
      "Processing Record 41 | bolungarvik\n",
      "City not found. Skipping...\n",
      "Processing Record 42 | oranjemund\n",
      "Processing Record 43 | teguise\n",
      "Processing Record 44 | ribeira brava\n",
      "Processing Record 45 | kamenka\n",
      "Processing Record 46 | leningradskiy\n",
      "Processing Record 47 | illoqqortoormiut\n",
      "City not found. Skipping...\n",
      "Processing Record 48 | kirakira\n",
      "Processing Record 49 | anadyr\n",
      "Processing Record 50 | shimoda\n",
      "Processing Record 51 | bluff\n",
      "Processing Record 52 | qaanaaq\n",
      "Processing Record 53 | longyearbyen\n",
      "Processing Record 54 | kanniyakumari\n",
      "Processing Record 55 | guangyuan\n",
      "Processing Record 56 | flinders\n",
      "Processing Record 57 | yarada\n",
      "Processing Record 58 | khatanga\n",
      "Processing Record 59 | cape town\n",
      "Processing Record 60 | barrow\n",
      "Processing Record 61 | naze\n",
      "Processing Record 62 | san patricio\n",
      "Processing Record 63 | fort nelson\n",
      "Processing Record 64 | alofi\n",
      "Processing Record 65 | arraial do cabo\n",
      "Processing Record 66 | amderma\n",
      "City not found. Skipping...\n",
      "Processing Record 67 | da nang\n",
      "City not found. Skipping...\n",
      "Processing Record 68 | new norfolk\n",
      "Processing Record 69 | dhidhdhoo\n",
      "Processing Record 70 | tuktoyaktuk\n",
      "Processing Record 71 | tabuk\n",
      "Processing Record 72 | kamenskoye\n",
      "City not found. Skipping...\n",
      "Processing Record 73 | byron bay\n",
      "Processing Record 74 | san quintin\n",
      "Processing Record 75 | kudahuvadhoo\n",
      "Processing Record 76 | hermanus\n",
      "Processing Record 77 | saldanha\n",
      "Processing Record 78 | miranorte\n",
      "City not found. Skipping...\n",
      "Processing Record 79 | yellowknife\n",
      "Processing Record 80 | myanaung\n",
      "Processing Record 81 | rapar\n",
      "Processing Record 82 | parry sound\n",
      "Processing Record 83 | singaraja\n",
      "Processing Record 84 | isangel\n",
      "Processing Record 85 | east london\n",
      "Processing Record 86 | victoria\n",
      "Processing Record 87 | bethel\n",
      "Processing Record 88 | karratha\n",
      "Processing Record 89 | kavieng\n",
      "Processing Record 90 | esperance\n",
      "Processing Record 91 | avarua\n",
      "Processing Record 92 | barentsburg\n",
      "City not found. Skipping...\n",
      "Processing Record 93 | provideniya\n",
      "Processing Record 94 | jiangyou\n",
      "Processing Record 95 | kapaa\n",
      "Processing Record 96 | avera\n",
      "Processing Record 97 | laguna\n",
      "Processing Record 98 | castro\n",
      "Processing Record 99 | kitimat\n",
      "Processing Record 100 | makakilo city\n",
      "Processing Record 101 | heihe\n",
      "Processing Record 102 | klaksvik\n",
      "Processing Record 103 | rio grande\n",
      "Processing Record 104 | twin falls\n",
      "Processing Record 105 | atuona\n",
      "Processing Record 106 | florianopolis\n",
      "Processing Record 107 | golden\n",
      "Processing Record 108 | yulin\n",
      "Processing Record 109 | solovetskiy\n",
      "City not found. Skipping...\n",
      "Processing Record 110 | ruatoria\n",
      "City not found. Skipping...\n",
      "Processing Record 111 | pakwach\n",
      "City not found. Skipping...\n",
      "Processing Record 112 | ostrovnoy\n",
      "Processing Record 113 | okhotsk\n",
      "Processing Record 114 | dingle\n",
      "Processing Record 115 | mahebourg\n",
      "Processing Record 116 | cozumel\n",
      "City not found. Skipping...\n",
      "Processing Record 117 | ust-kamchatsk\n",
      "City not found. Skipping...\n",
      "Processing Record 118 | kavaratti\n",
      "Processing Record 119 | madang\n",
      "Processing Record 120 | pyapon\n",
      "Processing Record 121 | labutta\n",
      "City not found. Skipping...\n",
      "Processing Record 122 | beloha\n",
      "Processing Record 123 | myaundzha\n",
      "Processing Record 124 | umzimvubu\n",
      "City not found. Skipping...\n",
      "Processing Record 125 | souillac\n",
      "Processing Record 126 | portage\n",
      "Processing Record 127 | smithers\n",
      "Processing Record 128 | kodiak\n",
      "Processing Record 129 | verkhnyaya inta\n",
      "Processing Record 130 | college\n",
      "Processing Record 131 | mahadday weyne\n",
      "City not found. Skipping...\n",
      "Processing Record 132 | roseville\n",
      "Processing Record 133 | saleaula\n",
      "City not found. Skipping...\n",
      "Processing Record 134 | xining\n",
      "Processing Record 135 | albany\n",
      "Processing Record 136 | khorramabad\n",
      "Processing Record 137 | port blair\n",
      "Processing Record 138 | port alfred\n",
      "Processing Record 139 | pandan\n",
      "Processing Record 140 | axim\n",
      "Processing Record 141 | cidreira\n",
      "Processing Record 142 | hami\n",
      "Processing Record 143 | eyl\n",
      "Processing Record 144 | tasiilaq\n",
      "Processing Record 145 | ambilobe\n",
      "Processing Record 146 | tashara\n",
      "Processing Record 147 | katsuura\n",
      "Processing Record 148 | clyde river\n",
      "Processing Record 149 | svetlyy\n",
      "City not found. Skipping...\n",
      "Processing Record 150 | saint george\n",
      "Processing Record 151 | pisco\n",
      "Processing Record 152 | fortuna\n",
      "Processing Record 153 | thinadhoo\n",
      "Processing Record 154 | grand river south east\n",
      "City not found. Skipping...\n",
      "Processing Record 155 | rangpo\n",
      "Processing Record 156 | faya\n",
      "Processing Record 157 | perth\n",
      "Processing Record 158 | dikson\n",
      "Processing Record 159 | vila velha\n",
      "Processing Record 160 | burnie\n",
      "Processing Record 161 | sao jose da coroa grande\n",
      "Processing Record 162 | atambua\n",
      "Processing Record 163 | palana\n",
      "Processing Record 164 | bandar\n",
      "Processing Record 165 | sorvag\n",
      "City not found. Skipping...\n",
      "Processing Record 166 | sampit\n",
      "Processing Record 167 | caceres\n",
      "Processing Record 168 | deniliquin\n",
      "Processing Record 169 | nikolskoye\n",
      "Processing Record 170 | tupiza\n",
      "Processing Record 171 | hobart\n",
      "Processing Record 172 | saint-joseph\n",
      "Processing Record 173 | thompson\n",
      "Processing Record 174 | wanning\n",
      "Processing Record 175 | rudiskes\n",
      "Processing Record 176 | jiroft\n",
      "City not found. Skipping...\n",
      "Processing Record 177 | husavik\n",
      "Processing Record 178 | la cruz\n",
      "Processing Record 179 | havre-saint-pierre\n",
      "Processing Record 180 | vanimo\n",
      "Processing Record 181 | northam\n",
      "Processing Record 182 | santa cruz\n",
      "Processing Record 183 | kasongo-lunda\n",
      "Processing Record 184 | rocha\n",
      "Processing Record 185 | umm kaddadah\n",
      "Processing Record 186 | vardo\n",
      "Processing Record 187 | hay river\n",
      "Processing Record 188 | vao\n",
      "Processing Record 189 | attawapiskat\n",
      "City not found. Skipping...\n",
      "Processing Record 190 | sinnamary\n",
      "Processing Record 191 | quatre cocos\n",
      "Processing Record 192 | taolanaro\n",
      "City not found. Skipping...\n",
      "Processing Record 193 | yarim\n",
      "Processing Record 194 | goundam\n",
      "Processing Record 195 | oeiras do para\n",
      "Processing Record 196 | hamilton\n",
      "Processing Record 197 | nanortalik\n",
      "Processing Record 198 | arlit\n",
      "Processing Record 199 | buraydah\n",
      "Processing Record 200 | zirandaro\n",
      "Processing Record 201 | kamennomostskoye\n",
      "Processing Record 202 | nha trang\n",
      "Processing Record 203 | upernavik\n",
      "Processing Record 204 | jasidih\n",
      "Processing Record 205 | jasper\n",
      "Processing Record 206 | ilulissat\n",
      "Processing Record 207 | luderitz\n",
      "Processing Record 208 | penzance\n",
      "Processing Record 209 | georgetown\n",
      "Processing Record 210 | cholet\n",
      "Processing Record 211 | nguiu\n",
      "City not found. Skipping...\n",
      "Processing Record 212 | muros\n",
      "Processing Record 213 | santa fe\n",
      "Processing Record 214 | samusu\n",
      "City not found. Skipping...\n",
      "Processing Record 215 | port hawkesbury\n",
      "Processing Record 216 | beatrice\n",
      "Processing Record 217 | oyonnax\n",
      "Processing Record 218 | coffs harbour\n",
      "Processing Record 219 | nouakchott\n",
      "Processing Record 220 | komsomolskoye\n",
      "Processing Record 221 | bathsheba\n",
      "Processing Record 222 | mecca\n",
      "Processing Record 223 | padang\n",
      "Processing Record 224 | faanui\n",
      "Processing Record 225 | vila franca do campo\n",
      "Processing Record 226 | kalemie\n"
     ]
    },
    {
     "name": "stdout",
     "output_type": "stream",
     "text": [
      "Processing Record 227 | greytown\n",
      "Processing Record 228 | belushya guba\n",
      "City not found. Skipping...\n",
      "Processing Record 229 | iqaluit\n",
      "Processing Record 230 | tremedal\n",
      "Processing Record 231 | margate\n",
      "Processing Record 232 | ceres\n",
      "Processing Record 233 | mar del plata\n",
      "Processing Record 234 | dauphin\n",
      "Processing Record 235 | egvekinot\n",
      "Processing Record 236 | severo-kurilsk\n",
      "Processing Record 237 | petropavlovsk-kamchatskiy\n",
      "Processing Record 238 | tura\n",
      "Processing Record 239 | marcona\n",
      "City not found. Skipping...\n",
      "Processing Record 240 | honiara\n",
      "Processing Record 241 | constitucion\n",
      "Processing Record 242 | paamiut\n",
      "Processing Record 243 | naranjito\n",
      "Processing Record 244 | jardim\n",
      "Processing Record 245 | sinazongwe\n",
      "Processing Record 246 | lagoa\n",
      "Processing Record 247 | bayir\n",
      "Processing Record 248 | road town\n",
      "Processing Record 249 | sao joao da barra\n",
      "Processing Record 250 | bambous virieux\n",
      "Processing Record 251 | palmeira\n",
      "Processing Record 252 | kijini\n",
      "Processing Record 253 | lebu\n",
      "Processing Record 254 | chiquimula\n",
      "Processing Record 255 | puerto ayacucho\n",
      "Processing Record 256 | tiksi\n",
      "Processing Record 257 | miri\n",
      "Processing Record 258 | ancud\n",
      "Processing Record 259 | mehamn\n",
      "Processing Record 260 | port hedland\n",
      "Processing Record 261 | saquarema\n",
      "Processing Record 262 | camacha\n",
      "Processing Record 263 | amahai\n",
      "Processing Record 264 | riyadh\n",
      "Processing Record 265 | bedford\n",
      "Processing Record 266 | hofn\n",
      "Processing Record 267 | buariki\n",
      "City not found. Skipping...\n",
      "Processing Record 268 | las palmas\n",
      "Processing Record 269 | kisangani\n",
      "Processing Record 270 | mayumba\n",
      "Processing Record 271 | bacalar\n",
      "Processing Record 272 | broome\n",
      "Processing Record 273 | necochea\n",
      "Processing Record 274 | mahenge\n",
      "Processing Record 275 | ahipara\n",
      "Processing Record 276 | ternate\n",
      "Processing Record 277 | iskateley\n",
      "Processing Record 278 | palora\n",
      "Processing Record 279 | irara\n",
      "Processing Record 280 | novikovo\n",
      "Processing Record 281 | ocean city\n",
      "Processing Record 282 | chipinge\n",
      "Processing Record 283 | sukhumi\n",
      "City not found. Skipping...\n",
      "Processing Record 284 | ishigaki\n",
      "Processing Record 285 | suoyarvi\n",
      "Processing Record 286 | cherskiy\n",
      "Processing Record 287 | kutahya\n",
      "Processing Record 288 | ketchikan\n",
      "Processing Record 289 | yulara\n",
      "Processing Record 290 | henties bay\n",
      "Processing Record 291 | torbay\n",
      "Processing Record 292 | goderich\n",
      "Processing Record 293 | kyra\n",
      "City not found. Skipping...\n",
      "Processing Record 294 | tucuma\n",
      "City not found. Skipping...\n",
      "Processing Record 295 | kerema\n",
      "Processing Record 296 | llano marin\n",
      "Processing Record 297 | tsihombe\n",
      "City not found. Skipping...\n",
      "Processing Record 298 | kieta\n",
      "Processing Record 299 | mount isa\n",
      "Processing Record 300 | maumere\n",
      "Processing Record 301 | dwarahat\n",
      "Processing Record 302 | namibe\n",
      "Processing Record 303 | batagay\n",
      "Processing Record 304 | burgersdorp\n",
      "Processing Record 305 | adrar\n",
      "Processing Record 306 | umm durman\n",
      "City not found. Skipping...\n",
      "Processing Record 307 | talaya\n",
      "Processing Record 308 | sanming\n",
      "Processing Record 309 | viking\n",
      "Processing Record 310 | francisco sa\n",
      "Processing Record 311 | gualaquiza\n",
      "Processing Record 312 | chake chake\n",
      "Processing Record 313 | littleton\n",
      "Processing Record 314 | coahuayana\n",
      "Processing Record 315 | tabas\n",
      "Processing Record 316 | serenje\n",
      "Processing Record 317 | ribeira grande\n",
      "Processing Record 318 | terenos\n",
      "Processing Record 319 | charleville-mezieres\n",
      "Processing Record 320 | noumea\n",
      "Processing Record 321 | hondo\n",
      "Processing Record 322 | manjo\n",
      "Processing Record 323 | orlik\n",
      "Processing Record 324 | saint-georges\n",
      "Processing Record 325 | tera\n",
      "Processing Record 326 | roald\n",
      "Processing Record 327 | pangkalanbuun\n",
      "Processing Record 328 | coquimbo\n",
      "Processing Record 329 | balaka\n",
      "Processing Record 330 | caravelas\n",
      "Processing Record 331 | merrill\n",
      "Processing Record 332 | khonsa\n",
      "Processing Record 333 | camacupa\n",
      "Processing Record 334 | chokurdakh\n",
      "Processing Record 335 | richards bay\n",
      "Processing Record 336 | taoudenni\n",
      "Processing Record 337 | canutama\n",
      "Processing Record 338 | mackay\n",
      "Processing Record 339 | maxixe\n",
      "Processing Record 340 | mys shmidta\n",
      "City not found. Skipping...\n",
      "Processing Record 341 | vostok\n",
      "Processing Record 342 | korla\n",
      "City not found. Skipping...\n",
      "Processing Record 343 | lavrentiya\n",
      "Processing Record 344 | grand baie\n",
      "Processing Record 345 | areka\n",
      "Processing Record 346 | bredasdorp\n",
      "Processing Record 347 | gasa\n",
      "Processing Record 348 | marawi\n",
      "Processing Record 349 | sao filipe\n",
      "Processing Record 350 | carnot\n",
      "Processing Record 351 | hargeysa\n",
      "Processing Record 352 | whitehorse\n",
      "Processing Record 353 | mao\n",
      "Processing Record 354 | merritt\n",
      "Processing Record 355 | vikulovo\n",
      "Processing Record 356 | cape coast\n",
      "Processing Record 357 | kloulklubed\n",
      "Processing Record 358 | neuquen\n",
      "Processing Record 359 | todos santos\n",
      "Processing Record 360 | stoyba\n",
      "City not found. Skipping...\n",
      "Processing Record 361 | plettenberg bay\n",
      "Processing Record 362 | kuytun\n",
      "Processing Record 363 | coihaique\n",
      "Processing Record 364 | miracema do tocantins\n",
      "Processing Record 365 | fare\n",
      "Processing Record 366 | vaitupu\n",
      "City not found. Skipping...\n",
      "Processing Record 367 | usinsk\n",
      "Processing Record 368 | bargal\n",
      "City not found. Skipping...\n",
      "Processing Record 369 | maba\n",
      "Processing Record 370 | santa isabel do rio negro\n",
      "Processing Record 371 | port keats\n",
      "Processing Record 372 | galle\n",
      "Processing Record 373 | valparaiso\n",
      "Processing Record 374 | buchanan\n",
      "Processing Record 375 | sisimiut\n",
      "Processing Record 376 | ahmadpur sial\n",
      "Processing Record 377 | bonthe\n",
      "Processing Record 378 | katangli\n",
      "Processing Record 379 | kysyl-syr\n",
      "Processing Record 380 | pamplona\n",
      "Processing Record 381 | nicoya\n",
      "Processing Record 382 | greenwood\n",
      "Processing Record 383 | lata\n",
      "Processing Record 384 | providencia\n",
      "Processing Record 385 | temizhbekskiy\n",
      "Processing Record 386 | acapulco\n",
      "Processing Record 387 | kyaukse\n",
      "Processing Record 388 | shingu\n",
      "Processing Record 389 | zhicheng\n",
      "Processing Record 390 | zhezkazgan\n",
      "Processing Record 391 | cine\n",
      "Processing Record 392 | phan rang\n",
      "City not found. Skipping...\n",
      "Processing Record 393 | kazachinskoye\n",
      "Processing Record 394 | komsomolskiy\n",
      "Processing Record 395 | hambantota\n",
      "Processing Record 396 | talcahuano\n",
      "Processing Record 397 | shelburne\n",
      "Processing Record 398 | manicore\n",
      "Processing Record 399 | kupang\n",
      "Processing Record 400 | qianan\n",
      "Processing Record 401 | tam ky\n",
      "Processing Record 402 | baoqing\n",
      "Processing Record 403 | el paujil\n",
      "Processing Record 404 | pryazha\n",
      "Processing Record 405 | nantucket\n",
      "Processing Record 406 | olafsvik\n",
      "City not found. Skipping...\n",
      "Processing Record 407 | rosario oeste\n",
      "Processing Record 408 | muborak\n",
      "Processing Record 409 | maple creek\n",
      "Processing Record 410 | westport\n",
      "Processing Record 411 | usevya\n",
      "City not found. Skipping...\n",
      "Processing Record 412 | sobolevo\n",
      "Processing Record 413 | broken hill\n",
      "Processing Record 414 | meulaboh\n",
      "Processing Record 415 | momcilgrad\n",
      "City not found. Skipping...\n",
      "Processing Record 416 | bodden town\n",
      "Processing Record 417 | ola\n",
      "Processing Record 418 | gidole\n",
      "Processing Record 419 | sabha\n",
      "Processing Record 420 | bethanien\n",
      "Processing Record 421 | thiruvananthapuram\n",
      "Processing Record 422 | chilca\n",
      "Processing Record 423 | guymon\n",
      "Processing Record 424 | harper\n",
      "Processing Record 425 | porto novo\n",
      "Processing Record 426 | maues\n",
      "Processing Record 427 | stephenville\n",
      "Processing Record 428 | ndende\n",
      "City not found. Skipping...\n",
      "Processing Record 429 | toliary\n",
      "City not found. Skipping...\n",
      "Processing Record 430 | bilibino\n",
      "Processing Record 431 | sedelnikovo\n",
      "City not found. Skipping...\n",
      "Processing Record 432 | jaipur hat\n",
      "City not found. Skipping...\n",
      "Processing Record 433 | kahului\n",
      "Processing Record 434 | cravo norte\n",
      "Processing Record 435 | lorengau\n",
      "Processing Record 436 | chulym\n",
      "Processing Record 437 | hasaki\n",
      "Processing Record 438 | chicama\n",
      "Processing Record 439 | aquiraz\n",
      "Processing Record 440 | gamba\n",
      "Processing Record 441 | luganville\n",
      "Processing Record 442 | dolores\n",
      "Processing Record 443 | pangnirtung\n",
      "Processing Record 444 | narsaq\n",
      "Processing Record 445 | alta gracia\n",
      "Processing Record 446 | itarema\n",
      "Processing Record 447 | qasigiannguit\n",
      "Processing Record 448 | gat\n",
      "Processing Record 449 | halifax\n",
      "Processing Record 450 | huai thalaeng\n",
      "Processing Record 451 | banikoara\n",
      "Processing Record 452 | dzhebariki-khaya\n",
      "Processing Record 453 | muscat\n",
      "Processing Record 454 | along\n",
      "Processing Record 455 | waipawa\n",
      "Processing Record 456 | gornopravdinsk\n",
      "Processing Record 457 | sabang\n"
     ]
    },
    {
     "name": "stdout",
     "output_type": "stream",
     "text": [
      "Processing Record 458 | bonavista\n",
      "Processing Record 459 | tadine\n",
      "Processing Record 460 | jumla\n",
      "Processing Record 461 | cayenne\n",
      "Processing Record 462 | asau\n",
      "City not found. Skipping...\n",
      "Processing Record 463 | geraldton\n",
      "Processing Record 464 | sistranda\n",
      "Processing Record 465 | semnan\n",
      "Processing Record 466 | la rochelle\n",
      "Processing Record 467 | camana\n",
      "City not found. Skipping...\n",
      "Processing Record 468 | mirnyy\n",
      "Processing Record 469 | oxelosund\n",
      "Processing Record 470 | lubango\n",
      "Processing Record 471 | tarko-sale\n",
      "Processing Record 472 | portland\n",
      "Processing Record 473 | la asuncion\n",
      "Processing Record 474 | grindavik\n",
      "Processing Record 475 | srednekolymsk\n",
      "Processing Record 476 | sola\n",
      "Processing Record 477 | williston\n",
      "Processing Record 478 | kadykchan\n",
      "City not found. Skipping...\n",
      "Processing Record 479 | raymondville\n",
      "Processing Record 480 | bilma\n",
      "Processing Record 481 | eureka\n",
      "Processing Record 482 | taruma\n",
      "Processing Record 483 | sarangani\n",
      "Processing Record 484 | junin\n",
      "Processing Record 485 | columbus\n",
      "Processing Record 486 | palmer\n",
      "Processing Record 487 | teya\n",
      "Processing Record 488 | morondava\n",
      "Processing Record 489 | betong\n",
      "Processing Record 490 | fairbanks\n",
      "Processing Record 491 | mishan\n",
      "Processing Record 492 | artyk\n",
      "City not found. Skipping...\n",
      "Processing Record 493 | ustye\n",
      "Processing Record 494 | ous\n",
      "Processing Record 495 | agadez\n",
      "Processing Record 496 | bengkulu\n",
      "City not found. Skipping...\n",
      "Processing Record 497 | kirkwall\n",
      "Processing Record 498 | tiznit\n",
      "Processing Record 499 | bacolod\n",
      "Processing Record 500 | kushmurun\n",
      "City not found. Skipping...\n",
      "Processing Record 501 | kandalaksha\n",
      "Processing Record 502 | west wendover\n",
      "Processing Record 503 | ibb\n",
      "Processing Record 504 | springdale\n",
      "Processing Record 505 | floro\n",
      "Processing Record 506 | ixtapa\n",
      "Processing Record 507 | tautira\n",
      "Processing Record 508 | invergordon\n",
      "Processing Record 509 | kaduqli\n",
      "Processing Record 510 | puerto madero\n",
      "Processing Record 511 | pochutla\n",
      "Processing Record 512 | mogadishu\n",
      "Processing Record 513 | summerside\n",
      "Processing Record 514 | noyabrsk\n",
      "Processing Record 515 | saint-louis\n",
      "Processing Record 516 | altar\n",
      "Processing Record 517 | dunedin\n",
      "Processing Record 518 | wewak\n",
      "Processing Record 519 | zima\n",
      "Processing Record 520 | matagami\n",
      "Processing Record 521 | ondorhaan\n",
      "City not found. Skipping...\n",
      "Processing Record 522 | segesd\n",
      "Processing Record 523 | vilhena\n",
      "Processing Record 524 | raudeberg\n",
      "Processing Record 525 | canon city\n",
      "Processing Record 526 | coos bay\n",
      "Processing Record 527 | zhanaozen\n",
      "Processing Record 528 | balaguer\n",
      "Processing Record 529 | litoral del san juan\n",
      "City not found. Skipping...\n",
      "Processing Record 530 | lasa\n",
      "Processing Record 531 | chara\n",
      "Processing Record 532 | wilmington\n",
      "Processing Record 533 | obo\n",
      "Processing Record 534 | nayudupeta\n",
      "Processing Record 535 | fort saint john\n",
      "City not found. Skipping...\n",
      "Processing Record 536 | huarmey\n",
      "Processing Record 537 | antofagasta\n",
      "Processing Record 538 | zhigansk\n",
      "Processing Record 539 | berlevag\n",
      "Processing Record 540 | karakendzha\n",
      "City not found. Skipping...\n",
      "Processing Record 541 | plasencia\n",
      "Processing Record 542 | igarka\n",
      "Processing Record 543 | moba\n",
      "Processing Record 544 | karlivka\n",
      "Processing Record 545 | wana\n",
      "Processing Record 546 | sagua la grande\n",
      "Processing Record 547 | ahuimanu\n",
      "Processing Record 548 | skibbereen\n",
      "Processing Record 549 | la palma\n",
      "Processing Record 550 | kanye\n",
      "Processing Record 551 | shar\n",
      "Processing Record 552 | kismayo\n",
      "City not found. Skipping...\n",
      "Processing Record 553 | port shepstone\n",
      "Processing Record 554 | lesnikovo\n",
      "Processing Record 555 | san policarpo\n",
      "Processing Record 556 | virginia beach\n",
      "Processing Record 557 | innisfail\n",
      "Processing Record 558 | upington\n",
      "Processing Record 559 | borger\n",
      "Processing Record 560 | wajir\n",
      "Processing Record 561 | beihai\n",
      "Processing Record 562 | oeiras\n",
      "Processing Record 563 | brigantine\n",
      "Processing Record 564 | magdalena\n",
      "Processing Record 565 | ribnica\n",
      "Processing Record 566 | aksarka\n",
      "Processing Record 567 | rio tinto\n",
      "Processing Record 568 | hornepayne\n",
      "Processing Record 569 | san miguel\n",
      "Processing Record 570 | jiaojiang\n",
      "City not found. Skipping...\n",
      "Processing Record 571 | moose factory\n",
      "Processing Record 572 | wagar\n",
      "Processing Record 573 | thunder bay\n",
      "Processing Record 574 | mount gambier\n",
      "Processing Record 575 | salalah\n",
      "Processing Record 576 | nazas\n",
      "Processing Record 577 | nouadhibou\n",
      "Processing Record 578 | okha\n",
      "Processing Record 579 | prince rupert\n",
      "Processing Record 580 | almeirim\n",
      "Processing Record 581 | lloydminster\n",
      "Processing Record 582 | high level\n",
      "Processing Record 583 | langsa\n",
      "Processing Record 584 | half moon bay\n",
      "Processing Record 585 | vreed en hoop\n",
      "City not found. Skipping...\n",
      "Processing Record 586 | saint-pierre\n",
      "Processing Record 587 | kochetok\n",
      "Processing Record 588 | emirdag\n",
      "Processing Record 589 | labytnangi\n",
      "Processing Record 590 | mariakani\n",
      "Processing Record 591 | kaoma\n",
      "Processing Record 592 | bhatkal\n",
      "Processing Record 593 | hokitika\n",
      "Processing Record 594 | batouri\n",
      "Processing Record 595 | saint anthony\n",
      "Processing Record 596 | great falls\n",
      "Processing Record 597 | emerald\n",
      "Processing Record 598 | bechyne\n",
      "Processing Record 599 | buala\n",
      "Processing Record 600 | guerrero negro\n",
      "Processing Record 601 | krasnopillya\n",
      "Processing Record 602 | birin\n",
      "Processing Record 603 | esil\n",
      "Processing Record 604 | santa maria del oro\n",
      "Processing Record 605 | tulagi\n",
      "City not found. Skipping...\n",
      "Processing Record 606 | wanaka\n",
      "Processing Record 607 | ajaigarh\n",
      "Processing Record 608 | lamu\n",
      "Processing Record 609 | sentyabrskiy\n",
      "City not found. Skipping...\n",
      "Processing Record 610 | wattegama\n",
      "Processing Record 611 | jucuaran\n",
      "Processing Record 612 | svobodnyy\n",
      "Processing Record 613 | himora\n",
      "City not found. Skipping...\n",
      "Processing Record 614 | kem\n",
      "Processing Record 615 | kawalu\n",
      "Processing Record 616 | aklavik\n",
      "Processing Record 617 | puerto baquerizo moreno\n",
      "Processing Record 618 | port-gentil\n",
      "Processing Record 619 | chimbote\n",
      "Processing Record 620 | maymanak\n",
      "City not found. Skipping...\n",
      "Processing Record 621 | bubaque\n",
      "Processing Record 622 | rakitnoye\n",
      "Processing Record 623 | la ronge\n",
      "Processing Record 624 | letlhakane\n",
      "Processing Record 625 | guanica\n",
      "Processing Record 626 | comodoro rivadavia\n",
      "Processing Record 627 | alta floresta\n",
      "Processing Record 628 | dubbo\n",
      "Processing Record 629 | manono\n",
      "Processing Record 630 | port lincoln\n",
      "-----------------------------\n"
     ]
    }
   ],
   "source": [
    "url = \"http://api.openweathermap.org/data/2.5/weather?units=Imperial&APPID=\" + weather_api_key \n",
    "\n",
    "weather_data = []\n",
    "\n",
    "print(\"Beginning Data Retrieval\")\n",
    "print(\"-----------------------------\")\n",
    "\n",
    "record = 1\n",
    "\n",
    "for city in cities:\n",
    "    \n",
    "    city_url = url + \"&q=\" + city\n",
    "    \n",
    "    print(f\"Processing Record {record} | {city}\")\n",
    "    \n",
    "    record = record + 1\n",
    "    \n",
    "    try:\n",
    "        response = requests.get(city_url).json()\n",
    "        \n",
    "        city = response[\"name\"]\n",
    "        country = response[\"sys\"][\"country\"]\n",
    "        date = response[\"dt\"]\n",
    "        lat = response[\"coord\"][\"lat\"]\n",
    "        lng = response[\"coord\"][\"lon\"]\n",
    "        cloud = response[\"clouds\"][\"all\"]\n",
    "        humidity = response[\"main\"][\"humidity\"]\n",
    "        temp_max = response[\"main\"][\"temp_max\"]\n",
    "        wind = response[\"wind\"][\"speed\"]\n",
    "        \n",
    "        weather_data.append({\"City\": city,\n",
    "                             \"Country\": country,\n",
    "                             \"Lat\": lat,\n",
    "                             \"Lng\": lng,\n",
    "                             \"Cloudiness\": cloud,\n",
    "                             \"Humidity\": humidity,\n",
    "                             \"Max Temp\": temp_max,\n",
    "                             \"Wind Speed\": wind,\n",
    "                             \"Date\": date})\n",
    "        \n",
    "    except:\n",
    "        print(\"City not found. Skipping...\")\n",
    "        pass\n",
    "\n",
    "print(\"-----------------------------\")"
   ]
  },
  {
   "cell_type": "markdown",
   "metadata": {},
   "source": [
    "### Convert Raw Data to DataFrame\n",
    "* Export the city data into a .csv.\n",
    "* Display the DataFrame"
   ]
  },
  {
   "cell_type": "code",
   "execution_count": 5,
   "metadata": {},
   "outputs": [
    {
     "data": {
      "text/plain": [
       "City          565\n",
       "Country       565\n",
       "Lat           565\n",
       "Lng           565\n",
       "Cloudiness    565\n",
       "Humidity      565\n",
       "Max Temp      565\n",
       "Wind Speed    565\n",
       "Date          565\n",
       "dtype: int64"
      ]
     },
     "execution_count": 5,
     "metadata": {},
     "output_type": "execute_result"
    }
   ],
   "source": [
    "city_data = pd.DataFrame(weather_data)\n",
    "city_data.count()"
   ]
  },
  {
   "cell_type": "code",
   "execution_count": 6,
   "metadata": {},
   "outputs": [
    {
     "data": {
      "text/html": [
       "<div>\n",
       "<style scoped>\n",
       "    .dataframe tbody tr th:only-of-type {\n",
       "        vertical-align: middle;\n",
       "    }\n",
       "\n",
       "    .dataframe tbody tr th {\n",
       "        vertical-align: top;\n",
       "    }\n",
       "\n",
       "    .dataframe thead th {\n",
       "        text-align: right;\n",
       "    }\n",
       "</style>\n",
       "<table border=\"1\" class=\"dataframe\">\n",
       "  <thead>\n",
       "    <tr style=\"text-align: right;\">\n",
       "      <th></th>\n",
       "      <th>City</th>\n",
       "      <th>Country</th>\n",
       "      <th>Lat</th>\n",
       "      <th>Lng</th>\n",
       "      <th>Cloudiness</th>\n",
       "      <th>Humidity</th>\n",
       "      <th>Max Temp</th>\n",
       "      <th>Wind Speed</th>\n",
       "      <th>Date</th>\n",
       "    </tr>\n",
       "  </thead>\n",
       "  <tbody>\n",
       "    <tr>\n",
       "      <td>0</td>\n",
       "      <td>Jamestown</td>\n",
       "      <td>AU</td>\n",
       "      <td>-33.21</td>\n",
       "      <td>138.60</td>\n",
       "      <td>94</td>\n",
       "      <td>18</td>\n",
       "      <td>76.15</td>\n",
       "      <td>1.79</td>\n",
       "      <td>1572426056</td>\n",
       "    </tr>\n",
       "    <tr>\n",
       "      <td>1</td>\n",
       "      <td>Qeshm</td>\n",
       "      <td>IR</td>\n",
       "      <td>26.96</td>\n",
       "      <td>56.27</td>\n",
       "      <td>20</td>\n",
       "      <td>46</td>\n",
       "      <td>93.20</td>\n",
       "      <td>9.17</td>\n",
       "      <td>1572426056</td>\n",
       "    </tr>\n",
       "    <tr>\n",
       "      <td>2</td>\n",
       "      <td>Tual</td>\n",
       "      <td>ID</td>\n",
       "      <td>-5.67</td>\n",
       "      <td>132.75</td>\n",
       "      <td>13</td>\n",
       "      <td>75</td>\n",
       "      <td>81.73</td>\n",
       "      <td>7.85</td>\n",
       "      <td>1572426056</td>\n",
       "    </tr>\n",
       "    <tr>\n",
       "      <td>3</td>\n",
       "      <td>Port Elizabeth</td>\n",
       "      <td>US</td>\n",
       "      <td>39.31</td>\n",
       "      <td>-74.98</td>\n",
       "      <td>90</td>\n",
       "      <td>93</td>\n",
       "      <td>63.00</td>\n",
       "      <td>3.36</td>\n",
       "      <td>1572426057</td>\n",
       "    </tr>\n",
       "    <tr>\n",
       "      <td>4</td>\n",
       "      <td>Vanavara</td>\n",
       "      <td>RU</td>\n",
       "      <td>60.35</td>\n",
       "      <td>102.28</td>\n",
       "      <td>99</td>\n",
       "      <td>73</td>\n",
       "      <td>16.56</td>\n",
       "      <td>15.50</td>\n",
       "      <td>1572426057</td>\n",
       "    </tr>\n",
       "  </tbody>\n",
       "</table>\n",
       "</div>"
      ],
      "text/plain": [
       "             City Country    Lat     Lng  Cloudiness  Humidity  Max Temp  \\\n",
       "0       Jamestown      AU -33.21  138.60          94        18     76.15   \n",
       "1           Qeshm      IR  26.96   56.27          20        46     93.20   \n",
       "2            Tual      ID  -5.67  132.75          13        75     81.73   \n",
       "3  Port Elizabeth      US  39.31  -74.98          90        93     63.00   \n",
       "4        Vanavara      RU  60.35  102.28          99        73     16.56   \n",
       "\n",
       "   Wind Speed        Date  \n",
       "0        1.79  1572426056  \n",
       "1        9.17  1572426056  \n",
       "2        7.85  1572426056  \n",
       "3        3.36  1572426057  \n",
       "4       15.50  1572426057  "
      ]
     },
     "execution_count": 6,
     "metadata": {},
     "output_type": "execute_result"
    }
   ],
   "source": [
    "city_data.to_csv(output_data_file, index_label=\"City_ID\")\n",
    "\n",
    "city_data.head()"
   ]
  },
  {
   "cell_type": "markdown",
   "metadata": {},
   "source": [
    "### Plotting the Data\n",
    "* Use proper labeling of the plots using plot titles (including date of analysis) and axes labels.\n",
    "* Save the plotted figures as .pngs."
   ]
  },
  {
   "cell_type": "markdown",
   "metadata": {},
   "source": [
    "#### Latitude vs. Temperature Plot"
   ]
  },
  {
   "cell_type": "code",
   "execution_count": 7,
   "metadata": {
    "scrolled": true
   },
   "outputs": [
    {
     "data": {
      "image/png": "[encoded data removed]",
      "text/plain": [
       "<Figure size 432x288 with 1 Axes>"
      ]
     },
     "metadata": {
      "needs_background": "light"
     },
     "output_type": "display_data"
    }
   ],
   "source": [
    "plt.scatter(city_data[\"Lat\"], city_data[\"Max Temp\"], marker=\"o\", linewidths=1, label=\"Cities\", s=10)\n",
    "\n",
    "plt.title(\"City Latitude vs. Max Temperature\")\n",
    "plt.xlabel(\"Latitude\")\n",
    "plt.ylabel(\"Max Temperature (F)\")\n",
    "plt.grid(True)\n",
    "\n",
    "plt.savefig(\"output_data/Temp.png\")\n",
    "\n",
    "plt.show()"
   ]
  },
  {
   "cell_type": "markdown",
   "metadata": {},
   "source": [
    "#### Latitude vs. Humidity Plot"
   ]
  },
  {
   "cell_type": "code",
   "execution_count": 8,
   "metadata": {},
   "outputs": [
    {
     "data": {
      "image/png": "[encoded data removed]",
      "text/plain": [
       "<Figure size 432x288 with 1 Axes>"
      ]
     },
     "metadata": {
      "needs_background": "light"
     },
     "output_type": "display_data"
    }
   ],
   "source": [
    "plt.scatter(city_data[\"Lat\"], city_data[\"Humidity\"], marker=\"o\", linewidths=1, label=\"Cities\", s=10)\n",
    "\n",
    "plt.title(\"City Latitude vs. Humidity\")\n",
    "plt.xlabel(\"Latitude\")\n",
    "plt.ylabel(\"Humidity\")\n",
    "plt.grid(True)\n",
    "\n",
    "plt.savefig(\"output_data/Humidity.png\")\n",
    "\n",
    "plt.show()"
   ]
  },
  {
   "cell_type": "markdown",
   "metadata": {},
   "source": [
    "#### Latitude vs. Cloudiness Plot"
   ]
  },
  {
   "cell_type": "code",
   "execution_count": 9,
   "metadata": {},
   "outputs": [
    {
     "data": {
      "image/png": "[encoded data removed]",
      "text/plain": [
       "<Figure size 432x288 with 1 Axes>"
      ]
     },
     "metadata": {
      "needs_background": "light"
     },
     "output_type": "display_data"
    }
   ],
   "source": [
    "plt.scatter(city_data[\"Lat\"], city_data[\"Cloudiness\"], marker=\"o\", linewidths=1, label=\"Cities\", s=10)\n",
    "\n",
    "plt.title(\"City Latitude vs. Cloudiness\")\n",
    "plt.xlabel(\"Latitude\")\n",
    "plt.ylabel(\"Cloudiness\")\n",
    "plt.grid(True)\n",
    "\n",
    "plt.savefig(\"output_data/Cloud.png\")\n",
    "\n",
    "plt.show()"
   ]
  },
  {
   "cell_type": "markdown",
   "metadata": {},
   "source": [
    "#### Latitude vs. Wind Speed Plot"
   ]
  },
  {
   "cell_type": "code",
   "execution_count": 10,
   "metadata": {},
   "outputs": [
    {
     "data": {
      "image/png": "[encoded data removed]",
      "text/plain": [
       "<Figure size 432x288 with 1 Axes>"
      ]
     },
     "metadata": {
      "needs_background": "light"
     },
     "output_type": "display_data"
    }
   ],
   "source": [
    "plt.scatter(city_data[\"Lat\"], city_data[\"Wind Speed\"], marker=\"o\", linewidths=1, label=\"Cities\", s=10)\n",
    "\n",
    "plt.title(\"City Latitude vs. Wind Speed (mph)\")\n",
    "plt.xlabel(\"Latitude\")\n",
    "plt.ylabel(\"Wind\")\n",
    "plt.grid(True)\n",
    "\n",
    "plt.savefig(\"output_data/Wind.png\")\n",
    "\n",
    "plt.show()"
   ]
  },
  {
   "cell_type": "markdown",
   "metadata": {},
   "source": [
    "## Linear Regression"
   ]
  },
  {
   "cell_type": "code",
   "execution_count": 13,
   "metadata": {},
   "outputs": [],
   "source": [
    "# Create Northern and Southern Hemisphere DataFrames\n",
    "north_df = city_data.loc[(city_data[\"Lat\"] >= 0)]\n",
    "south_df = city_data.loc[(city_data[\"Lat\"] < 0)]"
   ]
  },
  {
   "cell_type": "markdown",
   "metadata": {},
   "source": [
    "####  Northern Hemisphere - Max Temp vs. Latitude Linear Regression"
   ]
  },
  {
   "cell_type": "code",
   "execution_count": 14,
   "metadata": {},
   "outputs": [
    {
     "name": "stdout",
     "output_type": "stream",
     "text": [
      "The r-squared is: -0.8602959620699713\n"
     ]
    },
    {
     "data": {
      "image/png": "[encoded data removed]",
      "text/plain": [
       "<Figure size 432x288 with 1 Axes>"
      ]
     },
     "metadata": {
      "needs_background": "light"
     },
     "output_type": "display_data"
    }
   ],
   "source": [
    "x_values = north_df[\"Lat\"].astype(\"float\")\n",
    "y_values = north_df[\"Max Temp\"].astype(\"float\")\n",
    "\n",
    "(slope, intercept, rvalue, pvalue, stderr) = linregress(x_values, y_values)\n",
    "regress_values = x_values * slope + intercept\n",
    "line_eq = \"y= \" + str(round(slope,2)) + \"x + \" + str(round(intercept,2))\n",
    "\n",
    "plt.scatter(x_values,y_values)\n",
    "plt.plot(x_values,regress_values,\"r-\")\n",
    "plt.annotate(line_eq, (6,10) ,fontsize=15,color=\"red\")\n",
    "plt.xlabel(\"Latitude (Northern Hemisphere)\")\n",
    "plt.ylabel(\"Max Temp\")\n",
    "print(f\"The r-squared is: {rvalue}\")\n",
    "plt.show()"
   ]
  },
  {
   "cell_type": "markdown",
   "metadata": {},
   "source": [
    "####  Southern Hemisphere - Max Temp vs. Latitude Linear Regression"
   ]
  },
  {
   "cell_type": "code",
   "execution_count": 15,
   "metadata": {},
   "outputs": [
    {
     "name": "stdout",
     "output_type": "stream",
     "text": [
      "The r-squared is: 0.5604161228803388\n"
     ]
    },
    {
     "data": {
      "image/png": "[encoded data removed]",
      "text/plain": [
       "<Figure size 432x288 with 1 Axes>"
      ]
     },
     "metadata": {
      "needs_background": "light"
     },
     "output_type": "display_data"
    }
   ],
   "source": [
    "x_values = south_df[\"Lat\"].astype(\"float\")\n",
    "y_values = south_df[\"Max Temp\"].astype(\"float\")\n",
    "\n",
    "(slope, intercept, rvalue, pvalue, stderr) = linregress(x_values, y_values)\n",
    "regress_values = x_values * slope + intercept\n",
    "line_eq = \"y= \" + str(round(slope,2)) + \"x + \" + str(round(intercept,2))\n",
    "\n",
    "plt.scatter(x_values,y_values)\n",
    "plt.plot(x_values,regress_values,\"r-\")\n",
    "plt.annotate(line_eq, (6,10) ,fontsize=15,color=\"red\")\n",
    "plt.xlabel(\"Latitude (Southern Hemisphere)\")\n",
    "plt.ylabel(\"Max Temp\")\n",
    "print(f\"The r-squared is: {rvalue}\")\n",
    "plt.show()"
   ]
  },
  {
   "cell_type": "markdown",
   "metadata": {},
   "source": [
    "####  Northern Hemisphere - Humidity (%) vs. Latitude Linear Regression"
   ]
  },
  {
   "cell_type": "code",
   "execution_count": 16,
   "metadata": {},
   "outputs": [
    {
     "name": "stdout",
     "output_type": "stream",
     "text": [
      "The r-squared is: 0.2393216978160668\n"
     ]
    },
    {
     "data": {
      "image/png": "[encoded data removed]",
      "text/plain": [
       "<Figure size 432x288 with 1 Axes>"
      ]
     },
     "metadata": {
      "needs_background": "light"
     },
     "output_type": "display_data"
    }
   ],
   "source": [
    "x_values = north_df[\"Lat\"].astype(\"float\")\n",
    "y_values = north_df[\"Humidity\"].astype(\"float\")\n",
    "\n",
    "(slope, intercept, rvalue, pvalue, stderr) = linregress(x_values, y_values)\n",
    "regress_values = x_values * slope + intercept\n",
    "line_eq = \"y= \" + str(round(slope,2)) + \"x + \" + str(round(intercept,2))\n",
    "\n",
    "plt.scatter(x_values,y_values)\n",
    "plt.plot(x_values,regress_values,\"r-\")\n",
    "plt.annotate(line_eq, (6,10) ,fontsize=15,color=\"red\")\n",
    "plt.xlabel(\"Latitude (Northern Hemisphere)\")\n",
    "plt.ylabel(\"Humidity\")\n",
    "print(f\"The r-squared is: {rvalue}\")\n",
    "plt.show()"
   ]
  },
  {
   "cell_type": "markdown",
   "metadata": {},
   "source": [
    "####  Southern Hemisphere - Humidity (%) vs. Latitude Linear Regression"
   ]
  },
  {
   "cell_type": "code",
   "execution_count": 17,
   "metadata": {},
   "outputs": [
    {
     "name": "stdout",
     "output_type": "stream",
     "text": [
      "The r-squared is: 0.2224216071594784\n"
     ]
    },
    {
     "data": {
      "image/png": "[encoded data removed]",
      "text/plain": [
       "<Figure size 432x288 with 1 Axes>"
      ]
     },
     "metadata": {
      "needs_background": "light"
     },
     "output_type": "display_data"
    }
   ],
   "source": [
    "x_values = south_df[\"Lat\"].astype(\"float\")\n",
    "y_values = south_df[\"Humidity\"].astype(\"float\")\n",
    "\n",
    "(slope, intercept, rvalue, pvalue, stderr) = linregress(x_values, y_values)\n",
    "regress_values = x_values * slope + intercept\n",
    "line_eq = \"y= \" + str(round(slope,2)) + \"x + \" + str(round(intercept,2))\n",
    "\n",
    "plt.scatter(x_values,y_values)\n",
    "plt.plot(x_values,regress_values,\"r-\")\n",
    "plt.annotate(line_eq, (6,10) ,fontsize=15,color=\"red\")\n",
    "plt.xlabel(\"Latitude (Southern Hemisphere)\")\n",
    "plt.ylabel(\"Humidity\")\n",
    "print(f\"The r-squared is: {rvalue}\")\n",
    "plt.show()"
   ]
  },
  {
   "cell_type": "markdown",
   "metadata": {},
   "source": [
    "####  Northern Hemisphere - Cloudiness (%) vs. Latitude Linear Regression"
   ]
  },
  {
   "cell_type": "code",
   "execution_count": 18,
   "metadata": {},
   "outputs": [
    {
     "name": "stdout",
     "output_type": "stream",
     "text": [
      "The r-squared is: 0.12648469012642694\n"
     ]
    },
    {
     "data": {
      "image/png": "[encoded data removed]",
      "text/plain": [
       "<Figure size 432x288 with 1 Axes>"
      ]
     },
     "metadata": {
      "needs_background": "light"
     },
     "output_type": "display_data"
    }
   ],
   "source": [
    "x_values = north_df[\"Lat\"].astype(\"float\")\n",
    "y_values = north_df[\"Cloudiness\"].astype(\"float\")\n",
    "\n",
    "(slope, intercept, rvalue, pvalue, stderr) = linregress(x_values, y_values)\n",
    "regress_values = x_values * slope + intercept\n",
    "line_eq = \"y= \" + str(round(slope,2)) + \"x + \" + str(round(intercept,2))\n",
    "\n",
    "plt.scatter(x_values,y_values)\n",
    "plt.plot(x_values,regress_values,\"r-\")\n",
    "plt.annotate(line_eq, (6,10) ,fontsize=15,color=\"red\")\n",
    "plt.xlabel(\"Latitude (Northern Hemisphere)\")\n",
    "plt.ylabel(\"Cloudiness\")\n",
    "print(f\"The r-squared is: {rvalue}\")\n",
    "plt.show()"
   ]
  },
  {
   "cell_type": "markdown",
   "metadata": {},
   "source": [
    "####  Southern Hemisphere - Cloudiness (%) vs. Latitude Linear Regression"
   ]
  },
  {
   "cell_type": "code",
   "execution_count": 19,
   "metadata": {},
   "outputs": [
    {
     "name": "stdout",
     "output_type": "stream",
     "text": [
      "The r-squared is: 0.20034022807486557\n"
     ]
    },
    {
     "data": {
      "image/png": "[encoded data removed]",
      "text/plain": [
       "<Figure size 432x288 with 1 Axes>"
      ]
     },
     "metadata": {
      "needs_background": "light"
     },
     "output_type": "display_data"
    }
   ],
   "source": [
    "x_values = south_df[\"Lat\"].astype(\"float\")\n",
    "y_values = south_df[\"Cloudiness\"].astype(\"float\")\n",
    "\n",
    "(slope, intercept, rvalue, pvalue, stderr) = linregress(x_values, y_values)\n",
    "regress_values = x_values * slope + intercept\n",
    "line_eq = \"y= \" + str(round(slope,2)) + \"x + \" + str(round(intercept,2))\n",
    "\n",
    "plt.scatter(x_values,y_values)\n",
    "plt.plot(x_values,regress_values,\"r-\")\n",
    "plt.annotate(line_eq, (6,10) ,fontsize=15,color=\"red\")\n",
    "plt.xlabel(\"Latitude (Southern Hemisphere)\")\n",
    "plt.ylabel(\"Cloudiness\")\n",
    "print(f\"The r-squared is: {rvalue}\")\n",
    "plt.show()"
   ]
  },
  {
   "cell_type": "markdown",
   "metadata": {},
   "source": [
    "####  Northern Hemisphere - Wind Speed (mph) vs. Latitude Linear Regression"
   ]
  },
  {
   "cell_type": "code",
   "execution_count": 20,
   "metadata": {},
   "outputs": [
    {
     "name": "stdout",
     "output_type": "stream",
     "text": [
      "The r-squared is: 0.10829412592063858\n"
     ]
    },
    {
     "data": {
      "image/png": "[encoded data removed]",
      "text/plain": [
       "<Figure size 432x288 with 1 Axes>"
      ]
     },
     "metadata": {
      "needs_background": "light"
     },
     "output_type": "display_data"
    }
   ],
   "source": [
    "x_values = north_df[\"Lat\"].astype(\"float\")\n",
    "y_values = north_df[\"Wind Speed\"].astype(\"float\")\n",
    "\n",
    "(slope, intercept, rvalue, pvalue, stderr) = linregress(x_values, y_values)\n",
    "regress_values = x_values * slope + intercept\n",
    "line_eq = \"y= \" + str(round(slope,2)) + \"x + \" + str(round(intercept,2))\n",
    "\n",
    "plt.scatter(x_values,y_values)\n",
    "plt.plot(x_values,regress_values,\"r-\")\n",
    "plt.annotate(line_eq, (6,10) ,fontsize=15,color=\"red\")\n",
    "plt.xlabel(\"Latitude (Northern Hemisphere)\")\n",
    "plt.ylabel(\"Wind Speed\")\n",
    "print(f\"The r-squared is: {rvalue}\")\n",
    "plt.show()"
   ]
  },
  {
   "cell_type": "markdown",
   "metadata": {},
   "source": [
    "####  Southern Hemisphere - Wind Speed (mph) vs. Latitude Linear Regression"
   ]
  },
  {
   "cell_type": "code",
   "execution_count": 21,
   "metadata": {},
   "outputs": [
    {
     "name": "stdout",
     "output_type": "stream",
     "text": [
      "The r-squared is: -0.3945838898963663\n"
     ]
    },
    {
     "data": {
      "image/png": "[encoded data removed]",
      "text/plain": [
       "<Figure size 432x288 with 1 Axes>"
      ]
     },
     "metadata": {
      "needs_background": "light"
     },
     "output_type": "display_data"
    }
   ],
   "source": [
    "x_values = south_df[\"Lat\"].astype(\"float\")\n",
    "y_values = south_df[\"Wind Speed\"].astype(\"float\")\n",
    "\n",
    "(slope, intercept, rvalue, pvalue, stderr) = linregress(x_values, y_values)\n",
    "regress_values = x_values * slope + intercept\n",
    "line_eq = \"y= \" + str(round(slope,2)) + \"x + \" + str(round(intercept,2))\n",
    "\n",
    "plt.scatter(x_values,y_values)\n",
    "plt.plot(x_values,regress_values,\"r-\")\n",
    "plt.annotate(line_eq, (6,10) ,fontsize=15,color=\"red\")\n",
    "plt.xlabel(\"Latitude (Southern Hemisphere)\")\n",
    "plt.ylabel(\"Wind Speed\")\n",
    "print(f\"The r-squared is: {rvalue}\")\n",
    "plt.show()"
   ]
  },
  {
   "cell_type": "code",
   "execution_count": null,
   "metadata": {},
   "outputs": [],
   "source": []
  }
 ],
 "metadata": {
  "anaconda-cloud": {},
  "kernel_info": {
   "name": "python3"
  },
  "kernelspec": {
   "display_name": "Python 3",
   "language": "python",
   "name": "python3"
  },
  "language_info": {
   "codemirror_mode": {
    "name": "ipython",
    "version": 3
   },
   "file_extension": ".py",
   "mimetype": "text/x-python",
   "name": "python",
   "nbconvert_exporter": "python",
   "pygments_lexer": "ipython3",
   "version": "3.7.4"
  },
  "latex_envs": {
   "LaTeX_envs_menu_present": true,
   "autoclose": false,
   "autocomplete": true,
   "bibliofile": "biblio.bib",
   "cite_by": "apalike",
   "current_citInitial": 1,
   "eqLabelWithNumbers": true,
   "eqNumInitial": 1,
   "hotkeys": {
    "equation": "Ctrl-E",
    "itemize": "Ctrl-I"
   },
   "labels_anchors": false,
   "latex_user_defs": false,
   "report_style_numbering": false,
   "user_envs_cfg": false
  },
  "nteract": {
   "version": "0.12.3"
  }
 },
 "nbformat": 4,
 "nbformat_minor": 2
}
